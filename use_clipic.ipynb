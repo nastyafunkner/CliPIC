{
 "cells": [
  {
   "cell_type": "code",
   "execution_count": 110,
   "metadata": {},
   "outputs": [],
   "source": [
    "import os\n",
    "import clustering\n",
    "import alignment\n",
    "import fake_alignment\n",
    "import cluster_visualization\n",
    "import template_generating\n",
    "import stat_calculator\n",
    "\n",
    "%matplotlib inline"
   ]
  },
  {
   "cell_type": "code",
   "execution_count": 111,
   "metadata": {},
   "outputs": [],
   "source": [
    "from _cluster_file_functions import extract_clusters, record_clusters\n",
    "from self_stopped_genetic_algorithm import selfstop_genetic_algorithm"
   ]
  },
  {
   "cell_type": "code",
   "execution_count": 112,
   "metadata": {},
   "outputs": [],
   "source": [
    "SEQUENCE_SOURCE_DIR = 'data1/'  # Folder with sequences\n",
    "SEQUENCE_SOURCE_NAME = 'patient_traces_test'  # Name of sequences file without extention\n",
    "OUT_DIR_CLUSTERS = 'data1/Clusters/'  # Folder for clusters\n",
    "OUT_DIR_VISUALIZATION = 'data1/Paths'  # Folder with graphs\n",
    "# OUTCOMES_FILE = 'data1/Outcomes.csv'\n",
    "OUTCOMES_FILE = None\n",
    "NODE_PARAMETERS_DIR = '_nodes_parameters/clinical_pathways_params'  # File with settings (names_dict.txt is required!!!)\n",
    "EXPERT_TEMPLATE_FILE = 'data1/expert_templates.txt'  # Manual templates\n",
    "GENETIC_TEMPLATE_FILE = 'data1/genetic_templates.txt'  # Empty file at start\n",
    "ALPHABET = 'AFNIED'  # All possible states in any order\n",
    "SEQUENCE_SEPARATOR = '\\t'  # A separator in SEQUENCE_SOURCE_NAME\n",
    "encoding = 'cp1251'"
   ]
  },
  {
   "cell_type": "code",
   "execution_count": 113,
   "metadata": {},
   "outputs": [
    {
     "name": "stdout",
     "output_type": "stream",
     "text": [
      "82 sequences\n"
     ]
    }
   ],
   "source": [
    "# read sequences\n",
    "sequence_source_path = os.path.join(SEQUENCE_SOURCE_DIR, SEQUENCE_SOURCE_NAME + '.txt')\n",
    "vectors, cases = extract_clusters(sequence_source_path, eval_=False, header=True,\n",
    "                                      encoding=encoding, sep=SEQUENCE_SEPARATOR)\n",
    "vectors = vectors[0]\n",
    "cases = cases[0]\n",
    "print(len(vectors), 'sequences')"
   ]
  },
  {
   "cell_type": "code",
   "execution_count": 114,
   "metadata": {},
   "outputs": [],
   "source": [
    "OUT_DIR_CLUSTERS += SEQUENCE_SOURCE_NAME + '/'"
   ]
  },
  {
   "cell_type": "markdown",
   "metadata": {},
   "source": [
    "#### Distance matrix"
   ]
  },
  {
   "cell_type": "code",
   "execution_count": 115,
   "metadata": {},
   "outputs": [
    {
     "name": "stdout",
     "output_type": "stream",
     "text": [
      "0 lines in matrix calculated\n",
      "1 lines in matrix calculated\n",
      "2 lines in matrix calculated\n",
      "3 lines in matrix calculated\n",
      "4 lines in matrix calculated\n",
      "5 lines in matrix calculated\n",
      "6 lines in matrix calculated\n",
      "7 lines in matrix calculated\n",
      "8 lines in matrix calculated\n",
      "9 lines in matrix calculated\n",
      "10 lines in matrix calculated\n",
      "11 lines in matrix calculated\n",
      "12 lines in matrix calculated\n",
      "13 lines in matrix calculated\n",
      "14 lines in matrix calculated\n",
      "15 lines in matrix calculated\n",
      "16 lines in matrix calculated\n",
      "17 lines in matrix calculated\n",
      "18 lines in matrix calculated\n",
      "19 lines in matrix calculated\n",
      "20 lines in matrix calculated\n",
      "21 lines in matrix calculated\n",
      "22 lines in matrix calculated\n",
      "23 lines in matrix calculated\n",
      "24 lines in matrix calculated\n",
      "25 lines in matrix calculated\n",
      "26 lines in matrix calculated\n",
      "27 lines in matrix calculated\n",
      "28 lines in matrix calculated\n",
      "29 lines in matrix calculated\n",
      "30 lines in matrix calculated\n",
      "31 lines in matrix calculated\n",
      "32 lines in matrix calculated\n",
      "33 lines in matrix calculated\n",
      "34 lines in matrix calculated\n",
      "35 lines in matrix calculated\n",
      "36 lines in matrix calculated\n",
      "37 lines in matrix calculated\n",
      "38 lines in matrix calculated\n",
      "39 lines in matrix calculated\n",
      "40 lines in matrix calculated\n",
      "41 lines in matrix calculated\n",
      "42 lines in matrix calculated\n",
      "43 lines in matrix calculated\n",
      "44 lines in matrix calculated\n",
      "45 lines in matrix calculated\n",
      "46 lines in matrix calculated\n",
      "47 lines in matrix calculated\n",
      "48 lines in matrix calculated\n",
      "49 lines in matrix calculated\n",
      "50 lines in matrix calculated\n",
      "51 lines in matrix calculated\n",
      "52 lines in matrix calculated\n",
      "53 lines in matrix calculated\n",
      "54 lines in matrix calculated\n",
      "55 lines in matrix calculated\n",
      "56 lines in matrix calculated\n",
      "57 lines in matrix calculated\n",
      "58 lines in matrix calculated\n",
      "59 lines in matrix calculated\n",
      "60 lines in matrix calculated\n",
      "61 lines in matrix calculated\n",
      "62 lines in matrix calculated\n",
      "63 lines in matrix calculated\n",
      "64 lines in matrix calculated\n",
      "65 lines in matrix calculated\n",
      "66 lines in matrix calculated\n",
      "67 lines in matrix calculated\n",
      "68 lines in matrix calculated\n",
      "69 lines in matrix calculated\n",
      "70 lines in matrix calculated\n",
      "71 lines in matrix calculated\n",
      "72 lines in matrix calculated\n",
      "73 lines in matrix calculated\n",
      "74 lines in matrix calculated\n",
      "75 lines in matrix calculated\n",
      "76 lines in matrix calculated\n",
      "77 lines in matrix calculated\n",
      "78 lines in matrix calculated\n",
      "79 lines in matrix calculated\n",
      "80 lines in matrix calculated\n",
      "81 lines in matrix calculated\n"
     ]
    }
   ],
   "source": [
    "# filename of distance matrix \n",
    "distance_matrix_file = '{0}{1}_similarity_matrix.txt'.format(OUT_DIR_CLUSTERS,\n",
    "                                                                 SEQUENCE_SOURCE_NAME)\n",
    "\n",
    "lev_sim_matrix = clustering.get_similarity_matrix(distance_matrix_file, vectors)"
   ]
  },
  {
   "cell_type": "code",
   "execution_count": 116,
   "metadata": {},
   "outputs": [],
   "source": [
    "MIN_NUM_CLUSTER = 3\n",
    "MAX_NUM_CLUSTER = 10"
   ]
  },
  {
   "cell_type": "code",
   "execution_count": 117,
   "metadata": {},
   "outputs": [
    {
     "name": "stdout",
     "output_type": "stream",
     "text": [
      "3 clusters now\n",
      "4 clusters now\n",
      "5 clusters now\n",
      "6 clusters now\n",
      "7 clusters now\n",
      "8 clusters now\n",
      "9 clusters now\n",
      "10 clusters now\n"
     ]
    },
    {
     "data": {
      "image/png": "[encoded data removed]",
      "text/plain": [
       "<Figure size 720x360 with 2 Axes>"
      ]
     },
     "metadata": {
      "needs_background": "light"
     },
     "output_type": "display_data"
    },
    {
     "data": {
      "text/plain": [
       "<Figure size 432x288 with 0 Axes>"
      ]
     },
     "metadata": {},
     "output_type": "display_data"
    }
   ],
   "source": [
    "var_metric, sill_metric = clustering.cluster_in_range(MIN_NUM_CLUSTER, \n",
    "                                   MAX_NUM_CLUSTER, \n",
    "                                   lev_sim_matrix, \n",
    "                                   vectors, \n",
    "                                   cases, \n",
    "                                   OUT_DIR_CLUSTERS)\n",
    "\n",
    "clustering.visualize_cluster_metrics(MIN_NUM_CLUSTER, \n",
    "                                     OUT_DIR_CLUSTERS, \n",
    "                                     [var_metric, sill_metric], \n",
    "                                     ['variance', 'silhouette'])\n"
   ]
  },
  {
   "cell_type": "code",
   "execution_count": 118,
   "metadata": {},
   "outputs": [],
   "source": [
    "# Choose a number of clusters using metrics above\n",
    "num_of_clusters = 6"
   ]
  },
  {
   "cell_type": "code",
   "execution_count": 119,
   "metadata": {},
   "outputs": [],
   "source": [
    "cluster_source = '{}KMeans{}.txt'.format(OUT_DIR_CLUSTERS, num_of_clusters)\n",
    "clusters, cluster_cases = extract_clusters(cluster_source, eval_=False, sep='\\t')"
   ]
  },
  {
   "cell_type": "markdown",
   "metadata": {},
   "source": [
    "#### Genetic templates"
   ]
  },
  {
   "cell_type": "code",
   "execution_count": 120,
   "metadata": {},
   "outputs": [],
   "source": [
    "template_dir = os.path.join(SEQUENCE_SOURCE_DIR, 'Template_generating', SEQUENCE_SOURCE_NAME,\n",
    "                                        os.path.basename(cluster_source.split('.')[0]))"
   ]
  },
  {
   "cell_type": "code",
   "execution_count": 121,
   "metadata": {},
   "outputs": [
    {
     "name": "stdout",
     "output_type": "stream",
     "text": [
      "15 sequences in cluster #0\n",
      "1 (5.1359) ... 2 (4.7539) ... 3 (6.411) ... 4 generations done\n",
      "5 (7.5781) ... 6 (6.8897) ... 7 (6.8897) ... 8 (6.8897) ... 9 generations done\n",
      "10 (7.2148) ... 11 (7.2148) ... 12 (7.2148) ... 13 (7.2148) ... 14 generations done\n",
      "15 (6.8532) ... 16 (8.8541) ... 17 (8.8541) ... 18 (8.8541) ... 19 generations done\n",
      "20 (10.8111) ... 21 (11.8116) ... 22 (11.8116) ... 23 (12.812) ... 24 generations done\n",
      "25 (12.812) ... 26 (13.8125) ... 27 (13.8125) ... 28 (13.8125) ... 29 generations done\n",
      "30 (15.7982) ... 31 (15.7982) ... 32 (15.7982) ... 33 (15.7982) ... 34 generations done\n",
      "35 (15.7982) ... 36 (15.7982) ... 37 (15.7982) ... 38 (15.7982) ... \n",
      "12 sequences in cluster #1\n",
      "1 (4.8527) ... 2 (7.4114) ... 3 (8.068) ... 4 generations done\n",
      "5 (9.737) ... 6 (10.7374) ... 7 (10.7374) ... 8 (11.7909) ... 9 generations done\n",
      "10 (13.1323) ... 11 (13.1323) ... 12 (13.5307) ... 13 (13.5307) ... 14 generations done\n",
      "15 (13.5307) ... 16 (14.531) ... 17 (14.531) ... 18 (14.531) ... 19 generations done\n",
      "20 (14.531) ... 21 (14.531) ... 22 (14.531) ... 23 (14.531) ... 24 generations done\n",
      "\n",
      "15 sequences in cluster #2\n",
      "1 (4.7941) ... 2 (7.5158) ... 3 (8.8641) ... 4 generations done\n",
      "5 (13.433) ... 6 (13.433) ... 7 (14.4118) ... 8 (14.4118) ... 9 generations done\n",
      "10 (16.4138) ... 11 (16.4138) ... 12 (16.4138) ... 13 (17.4149) ... 14 generations done\n",
      "15 (17.4149) ... 16 (17.4149) ... 17 (17.4149) ... 18 (17.4149) ... 19 generations done\n",
      "20 (17.7376) ... 21 (17.7376) ... 22 (17.7376) ... 23 (17.7376) ... 24 generations done\n",
      "25 (17.7376) ... 26 (17.7376) ... 27 (17.7376) ... 28 (17.7376) ... \n",
      "17 sequences in cluster #3\n",
      "1 (0.0909) ... 2 (1.0919) ... 3 (2.093) ... 4 generations done\n",
      "5 (5.0961) ... 6 (10.1012) ... 7 (12.1033) ... 8 (15.1064) ... 9 generations done\n",
      "10 (20.1116) ... 11 (21.1126) ... 12 (21.1126) ... 13 (22.1136) ... 14 generations done\n",
      "15 (23.1147) ... 16 (23.1147) ... 17 (23.1147) ... 18 (23.1147) ... 19 generations done\n",
      "20 (23.1147) ... 21 (23.1147) ... 22 (23.1147) ... \n",
      "17 sequences in cluster #4\n",
      "1 (3.8679) ... 2 (6.4031) ... 3 (6.6608) ... 4 generations done\n",
      "5 (8.3123) ... 6 (8.6394) ... 7 (10.6403) ... 8 (12.6413) ... 9 generations done\n",
      "10 (13.6417) ... 11 (13.6417) ... 12 (14.6422) ... 13 (15.0464) ... 14 generations done\n",
      "15 (15.7222) ... 16 (15.7222) ... 17 (16.7227) ... 18 (16.7227) ... 19 generations done\n",
      "20 (16.7227) ... 21 (16.7227) ... 22 (16.7227) ... 23 (17.7232) ... 24 generations done\n",
      "25 (17.4095) ... 26 (17.6442) ... 27 (17.6442) ... 28 (17.6442) ... 29 generations done\n",
      "30 (17.6442) ... 31 (17.6442) ... 32 (17.6442) ... 33 (17.6442) ... 34 generations done\n",
      "35 (18.6447) ... 36 (18.6447) ... 37 (18.6447) ... 38 (18.6447) ... 39 generations done\n",
      "40 (18.6447) ... 41 (18.6447) ... 42 (18.6447) ... \n",
      "6 sequences in cluster #5\n",
      "1 (0.0909) ... 2 (4.1074) ... 3 (6.1157) ... 4 generations done\n",
      "5 (6.1157) ... 6 (6.1157) ... 7 (7.1198) ... 8 (7.1198) ... 9 generations done\n",
      "10 (8.1239) ... 11 (8.1239) ... 12 (8.1239) ... 13 (8.1239) ... 14 generations done\n",
      "15 (8.1239) ... 16 (8.1239) ... 17 (8.1239) ... 18 (8.1239) ... \n"
     ]
    }
   ],
   "source": [
    "selfstop_genetic_algorithm(clusters, template_dir,\n",
    "                           # max_num_generations=300,\n",
    "                           alphabet=ALPHABET, mutation_num=10,\n",
    "                           increment=10, animation_and_plot=False)"
   ]
  },
  {
   "cell_type": "code",
   "execution_count": 122,
   "metadata": {},
   "outputs": [
    {
     "name": "stdout",
     "output_type": "stream",
     "text": [
      "Cluster|Size|Aligned\n",
      "      0|  15|     15\n",
      "      1|  12|     12\n",
      "      2|  15|     15\n",
      "      3|  17|     17\n",
      "      4|  17|     17\n",
      "      5|   6|      6\n"
     ]
    }
   ],
   "source": [
    "template_generating.choose_best_templates(template_dir, SEQUENCE_SOURCE_DIR, cluster_source,\n",
    "                                          os.path.basename(GENETIC_TEMPLATE_FILE))\n",
    "\n"
   ]
  },
  {
   "cell_type": "code",
   "execution_count": 123,
   "metadata": {},
   "outputs": [],
   "source": [
    "template_file = GENETIC_TEMPLATE_FILE"
   ]
  },
  {
   "cell_type": "code",
   "execution_count": 124,
   "metadata": {},
   "outputs": [],
   "source": [
    "file_out = cluster_source.split('.')[0] + '_full_alignment.txt'"
   ]
  },
  {
   "cell_type": "markdown",
   "metadata": {},
   "source": [
    "#### Draw clusters with graphviz"
   ]
  },
  {
   "cell_type": "code",
   "execution_count": 125,
   "metadata": {},
   "outputs": [],
   "source": [
    "num_state = alignment.align_all(clusters, cluster_cases, file_out, template_file)\n",
    "this_clusters, this_cases = extract_clusters(file_out, sep='\\t', eval_=False)"
   ]
  },
  {
   "cell_type": "code",
   "execution_count": 126,
   "metadata": {},
   "outputs": [],
   "source": [
    "def draw_all_clusters(add_name=''):\n",
    "    graphs_paths = []\n",
    "    for i, cluster in enumerate(this_clusters):\n",
    "        graph = cluster_visualization.Graph(cluster, \n",
    "                                            this_cases[i],\n",
    "                                            cluster_visualization.get_file_name(\n",
    "                                                file_out) + add_name, \n",
    "                                            i, \n",
    "                                            num_state, \n",
    "                                            NODE_PARAMETERS_DIR, \n",
    "                                            OUTCOMES_FILE,\n",
    "                                            add_figures=False)\n",
    "        graph.collect_edges()    \n",
    "\n",
    "        try:\n",
    "            path_to_grpah = graph.to_gv(OUT_DIR_VISUALIZATION, 0, 0.1)\n",
    "            graphs_paths.append(path_to_grpah)\n",
    "        except AssertionError:\n",
    "            print('Cluster #{} is empty'.format(i))\n",
    "    return graphs_paths"
   ]
  },
  {
   "cell_type": "code",
   "execution_count": 130,
   "metadata": {},
   "outputs": [],
   "source": [
    "graphs_paths = draw_all_clusters()"
   ]
  },
  {
   "cell_type": "markdown",
   "metadata": {},
   "source": [
    "#### Clusters review"
   ]
  },
  {
   "cell_type": "code",
   "execution_count": 131,
   "metadata": {},
   "outputs": [],
   "source": [
    "import ipywidgets as widgets\n",
    "from IPython.display import Image\n",
    "from ipywidgets import interact, interactive, fixed, interact_manual"
   ]
  },
  {
   "cell_type": "code",
   "execution_count": 132,
   "metadata": {},
   "outputs": [],
   "source": [
    "path_with_graphs = os.path.split(graphs_paths[0])[0]"
   ]
  },
  {
   "cell_type": "code",
   "execution_count": 133,
   "metadata": {},
   "outputs": [],
   "source": [
    "def show_chains_with_clusters(path_with_graphs):\n",
    "    \n",
    "    def display_chain(x, width):\n",
    "        return Image(os.path.join(path_with_graphs, x), width = width, height = 300)\n",
    "    \n",
    "    png_graphs = [f for f in os.listdir(path_with_graphs) if f[-3:] == 'png']\n",
    "    \n",
    "\n",
    "    x_widget =  widgets.Dropdown(\n",
    "        options=png_graphs,\n",
    "        value=png_graphs[0],\n",
    "        description='Кластер №',\n",
    "        disabled=False,\n",
    "    )\n",
    "\n",
    "\n",
    "\n",
    "    width_slider = widgets.IntSlider(min=100, \n",
    "                                     max=1000, \n",
    "                                     step=1, \n",
    "                                     value=700,\n",
    "                                    description='Размер:')\n",
    "\n",
    "    \n",
    "    interact(display_chain,\n",
    "             x=x_widget,\n",
    "             width=width_slider,\n",
    "            );"
   ]
  },
  {
   "cell_type": "code",
   "execution_count": 134,
   "metadata": {},
   "outputs": [
    {
     "data": {
      "application/vnd.jupyter.widget-view+json": {
       "model_id": "3db8ec4e81bc4f049da07da82d2aa4ae",
       "version_major": 2,
       "version_minor": 0
      },
      "text/plain": [
       "interactive(children=(Dropdown(description='Кластер №', options=('Cluster_0.gv.png', 'Cluster_1.gv.png', 'Clus…"
      ]
     },
     "metadata": {},
     "output_type": "display_data"
    }
   ],
   "source": [
    "show_chains_with_clusters(path_with_graphs)"
   ]
  },
  {
   "cell_type": "markdown",
   "metadata": {},
   "source": [
    "#### Statistics "
   ]
  },
  {
   "cell_type": "code",
   "execution_count": 135,
   "metadata": {},
   "outputs": [],
   "source": [
    "import pandas as pd\n",
    "from stat_calculator import cluster_report"
   ]
  },
  {
   "cell_type": "code",
   "execution_count": 136,
   "metadata": {},
   "outputs": [
    {
     "data": {
      "text/html": [
       "<div>\n",
       "<style scoped>\n",
       "    .dataframe tbody tr th:only-of-type {\n",
       "        vertical-align: middle;\n",
       "    }\n",
       "\n",
       "    .dataframe tbody tr th {\n",
       "        vertical-align: top;\n",
       "    }\n",
       "\n",
       "    .dataframe thead th {\n",
       "        text-align: right;\n",
       "    }\n",
       "</style>\n",
       "<table border=\"1\" class=\"dataframe\">\n",
       "  <thead>\n",
       "    <tr style=\"text-align: right;\">\n",
       "      <th></th>\n",
       "      <th>size</th>\n",
       "      <th>outliers</th>\n",
       "      <th>outliers_%</th>\n",
       "      <th>mean_seq_len</th>\n",
       "    </tr>\n",
       "    <tr>\n",
       "      <th>cluster</th>\n",
       "      <th></th>\n",
       "      <th></th>\n",
       "      <th></th>\n",
       "      <th></th>\n",
       "    </tr>\n",
       "  </thead>\n",
       "  <tbody>\n",
       "    <tr>\n",
       "      <th>0</th>\n",
       "      <td>15</td>\n",
       "      <td>0</td>\n",
       "      <td>0.0</td>\n",
       "      <td>5.20</td>\n",
       "    </tr>\n",
       "    <tr>\n",
       "      <th>1</th>\n",
       "      <td>12</td>\n",
       "      <td>0</td>\n",
       "      <td>0.0</td>\n",
       "      <td>6.25</td>\n",
       "    </tr>\n",
       "    <tr>\n",
       "      <th>2</th>\n",
       "      <td>15</td>\n",
       "      <td>0</td>\n",
       "      <td>0.0</td>\n",
       "      <td>3.67</td>\n",
       "    </tr>\n",
       "    <tr>\n",
       "      <th>3</th>\n",
       "      <td>17</td>\n",
       "      <td>0</td>\n",
       "      <td>0.0</td>\n",
       "      <td>4.00</td>\n",
       "    </tr>\n",
       "    <tr>\n",
       "      <th>4</th>\n",
       "      <td>17</td>\n",
       "      <td>0</td>\n",
       "      <td>0.0</td>\n",
       "      <td>5.00</td>\n",
       "    </tr>\n",
       "    <tr>\n",
       "      <th>5</th>\n",
       "      <td>6</td>\n",
       "      <td>0</td>\n",
       "      <td>0.0</td>\n",
       "      <td>2.00</td>\n",
       "    </tr>\n",
       "  </tbody>\n",
       "</table>\n",
       "</div>"
      ],
      "text/plain": [
       "         size  outliers  outliers_%  mean_seq_len\n",
       "cluster                                          \n",
       "0          15         0         0.0          5.20\n",
       "1          12         0         0.0          6.25\n",
       "2          15         0         0.0          3.67\n",
       "3          17         0         0.0          4.00\n",
       "4          17         0         0.0          5.00\n",
       "5           6         0         0.0          2.00"
      ]
     },
     "execution_count": 136,
     "metadata": {},
     "output_type": "execute_result"
    }
   ],
   "source": [
    "cluster_report(cluster_source, file_out)"
   ]
  },
  {
   "cell_type": "markdown",
   "metadata": {},
   "source": [
    "#### Specialists templates"
   ]
  },
  {
   "cell_type": "code",
   "execution_count": 137,
   "metadata": {},
   "outputs": [
    {
     "name": "stdout",
     "output_type": "stream",
     "text": [
      "NON-ALIGNED: AIFID A__IF__\n",
      "NON-ALIGNED: AEIFED A____E_\n",
      "NON-ALIGNED: AINFED A__I___\n",
      "NON-ALIGNED: AEFIF A____E_\n",
      "NON-ALIGNED: AFNFEFD AFN_FE_\n",
      "NON-ALIGNED: AFIFEIF AF_IFE_\n",
      "NON-ALIGNED: AFENEFE AF___E_\n",
      "NON-ALIGNED: AFIFEFD AF_IFE_\n",
      "NON-ALIGNED: AFIFEFD AF_IFE_\n",
      "NON-ALIGNED: AIFIFED A__IF__\n",
      "NON-ALIGNED: AFENE AF___E_\n",
      "NON-ALIGNED: AFENE AF___E_\n",
      "NON-ALIGNED: ANIFNF A_NIF__\n",
      "NON-ALIGNED: AFINFEF AF_I___\n",
      "NON-ALIGNED: AEFD A____E_\n",
      "NON-ALIGNED: AFEFD AF___E_\n",
      "NON-ALIGNED: AFEFD AF___E_\n",
      "NON-ALIGNED: ANFEFD A_N_FE_\n",
      "NON-ALIGNED: AFEFD AF___E_\n",
      "NON-ALIGNED: AFEFD AF___E_\n",
      "NON-ALIGNED: AFEND AF___E_\n"
     ]
    }
   ],
   "source": [
    "template_file_spec = EXPERT_TEMPLATE_FILE\n",
    "file_out_spec = cluster_source.split('.')[0] + '_full_alignment_specialist.txt'\n",
    "num_state = alignment.align_all(clusters, cluster_cases, file_out_spec, template_file_spec)\n",
    "this_clusters, this_cases = extract_clusters(file_out_spec, sep='\\t', eval_=False)\n",
    "\n",
    "graphs_paths_spec = draw_all_clusters(add_name='_spec')\n"
   ]
  },
  {
   "cell_type": "code",
   "execution_count": 138,
   "metadata": {},
   "outputs": [
    {
     "data": {
      "application/vnd.jupyter.widget-view+json": {
       "model_id": "2c5fce02501042aeb105489b873483b6",
       "version_major": 2,
       "version_minor": 0
      },
      "text/plain": [
       "interactive(children=(Dropdown(description='Кластер №', options=('Cluster_0.gv.png', 'Cluster_1.gv.png', 'Clus…"
      ]
     },
     "metadata": {},
     "output_type": "display_data"
    }
   ],
   "source": [
    "path_with_graphs_spec = os.path.split(graphs_paths_spec[0])[0]\n",
    "show_chains_with_clusters(path_with_graphs_spec)"
   ]
  },
  {
   "cell_type": "code",
   "execution_count": 139,
   "metadata": {},
   "outputs": [
    {
     "data": {
      "text/html": [
       "<div>\n",
       "<style scoped>\n",
       "    .dataframe tbody tr th:only-of-type {\n",
       "        vertical-align: middle;\n",
       "    }\n",
       "\n",
       "    .dataframe tbody tr th {\n",
       "        vertical-align: top;\n",
       "    }\n",
       "\n",
       "    .dataframe thead th {\n",
       "        text-align: right;\n",
       "    }\n",
       "</style>\n",
       "<table border=\"1\" class=\"dataframe\">\n",
       "  <thead>\n",
       "    <tr style=\"text-align: right;\">\n",
       "      <th></th>\n",
       "      <th>size</th>\n",
       "      <th>outliers</th>\n",
       "      <th>outliers_%</th>\n",
       "      <th>mean_seq_len</th>\n",
       "    </tr>\n",
       "    <tr>\n",
       "      <th>cluster</th>\n",
       "      <th></th>\n",
       "      <th></th>\n",
       "      <th></th>\n",
       "      <th></th>\n",
       "    </tr>\n",
       "  </thead>\n",
       "  <tbody>\n",
       "    <tr>\n",
       "      <th>0</th>\n",
       "      <td>15</td>\n",
       "      <td>3</td>\n",
       "      <td>20.00</td>\n",
       "      <td>5.20</td>\n",
       "    </tr>\n",
       "    <tr>\n",
       "      <th>1</th>\n",
       "      <td>12</td>\n",
       "      <td>11</td>\n",
       "      <td>91.67</td>\n",
       "      <td>6.25</td>\n",
       "    </tr>\n",
       "    <tr>\n",
       "      <th>2</th>\n",
       "      <td>15</td>\n",
       "      <td>1</td>\n",
       "      <td>6.67</td>\n",
       "      <td>3.67</td>\n",
       "    </tr>\n",
       "    <tr>\n",
       "      <th>3</th>\n",
       "      <td>17</td>\n",
       "      <td>0</td>\n",
       "      <td>0.00</td>\n",
       "      <td>4.00</td>\n",
       "    </tr>\n",
       "    <tr>\n",
       "      <th>4</th>\n",
       "      <td>17</td>\n",
       "      <td>6</td>\n",
       "      <td>35.29</td>\n",
       "      <td>5.00</td>\n",
       "    </tr>\n",
       "    <tr>\n",
       "      <th>5</th>\n",
       "      <td>6</td>\n",
       "      <td>0</td>\n",
       "      <td>0.00</td>\n",
       "      <td>2.00</td>\n",
       "    </tr>\n",
       "  </tbody>\n",
       "</table>\n",
       "</div>"
      ],
      "text/plain": [
       "         size  outliers  outliers_%  mean_seq_len\n",
       "cluster                                          \n",
       "0          15         3       20.00          5.20\n",
       "1          12        11       91.67          6.25\n",
       "2          15         1        6.67          3.67\n",
       "3          17         0        0.00          4.00\n",
       "4          17         6       35.29          5.00\n",
       "5           6         0        0.00          2.00"
      ]
     },
     "execution_count": 139,
     "metadata": {},
     "output_type": "execute_result"
    }
   ],
   "source": [
    "cluster_report(cluster_source, file_out_spec)"
   ]
  },
  {
   "cell_type": "markdown",
   "metadata": {},
   "source": [
    "#### Fake aligment (Cyclic)"
   ]
  },
  {
   "cell_type": "code",
   "execution_count": 140,
   "metadata": {},
   "outputs": [],
   "source": [
    "file_alignment = cluster_source.split('.')[0] + '_fake_alignment.txt'\n",
    "aligned_clusters = [[] for i in range(len(clusters))]\n",
    "for i, cluster in enumerate(clusters):\n",
    "    cyclic_alignment = fake_alignment.CyclicAlignment()\n",
    "    for sequence in cluster:\n",
    "        aligned_clusters[i].append(cyclic_alignment.align(sequence))\n",
    "\n",
    "record_clusters(file_alignment, aligned_clusters, cluster_cases, sep='\\t')\n",
    "\n",
    "fake_graphs_append = []\n",
    "for i, cluster in enumerate(aligned_clusters):\n",
    "    graph = cluster_visualization.Graph(cluster, cluster_cases[i],\n",
    "                                        cluster_visualization.get_file_name(file_alignment), i, 1,\n",
    "                                        NODE_PARAMETERS_DIR, OUTCOMES_FILE)\n",
    "    graph.collect_edges()\n",
    "    fake_graphs_append.append(graph.to_gv(OUT_DIR_VISUALIZATION, 0.0, 0.3))"
   ]
  },
  {
   "cell_type": "code",
   "execution_count": 141,
   "metadata": {},
   "outputs": [
    {
     "data": {
      "application/vnd.jupyter.widget-view+json": {
       "model_id": "b9f23080931a43e58befafd618436c63",
       "version_major": 2,
       "version_minor": 0
      },
      "text/plain": [
       "interactive(children=(Dropdown(description='Кластер №', options=('Cluster_0.gv.png', 'Cluster_1.gv.png', 'Clus…"
      ]
     },
     "metadata": {},
     "output_type": "display_data"
    }
   ],
   "source": [
    "path_with_fake_graphs = os.path.split(fake_graphs_append[0])[0]\n",
    "show_chains_with_clusters(path_with_fake_graphs)"
   ]
  },
  {
   "cell_type": "code",
   "execution_count": 142,
   "metadata": {
    "pycharm": {
     "name": "#%%\n"
    }
   },
   "outputs": [
    {
     "data": {
      "text/html": [
       "<div>\n",
       "<style scoped>\n",
       "    .dataframe tbody tr th:only-of-type {\n",
       "        vertical-align: middle;\n",
       "    }\n",
       "\n",
       "    .dataframe tbody tr th {\n",
       "        vertical-align: top;\n",
       "    }\n",
       "\n",
       "    .dataframe thead th {\n",
       "        text-align: right;\n",
       "    }\n",
       "</style>\n",
       "<table border=\"1\" class=\"dataframe\">\n",
       "  <thead>\n",
       "    <tr style=\"text-align: right;\">\n",
       "      <th></th>\n",
       "      <th>size</th>\n",
       "      <th>outliers</th>\n",
       "      <th>outliers_%</th>\n",
       "      <th>mean_seq_len</th>\n",
       "    </tr>\n",
       "    <tr>\n",
       "      <th>cluster</th>\n",
       "      <th></th>\n",
       "      <th></th>\n",
       "      <th></th>\n",
       "      <th></th>\n",
       "    </tr>\n",
       "  </thead>\n",
       "  <tbody>\n",
       "    <tr>\n",
       "      <th>0</th>\n",
       "      <td>15</td>\n",
       "      <td>0</td>\n",
       "      <td>0.0</td>\n",
       "      <td>5.20</td>\n",
       "    </tr>\n",
       "    <tr>\n",
       "      <th>1</th>\n",
       "      <td>12</td>\n",
       "      <td>0</td>\n",
       "      <td>0.0</td>\n",
       "      <td>6.25</td>\n",
       "    </tr>\n",
       "    <tr>\n",
       "      <th>2</th>\n",
       "      <td>15</td>\n",
       "      <td>0</td>\n",
       "      <td>0.0</td>\n",
       "      <td>3.67</td>\n",
       "    </tr>\n",
       "    <tr>\n",
       "      <th>3</th>\n",
       "      <td>17</td>\n",
       "      <td>0</td>\n",
       "      <td>0.0</td>\n",
       "      <td>4.00</td>\n",
       "    </tr>\n",
       "    <tr>\n",
       "      <th>4</th>\n",
       "      <td>17</td>\n",
       "      <td>0</td>\n",
       "      <td>0.0</td>\n",
       "      <td>5.00</td>\n",
       "    </tr>\n",
       "    <tr>\n",
       "      <th>5</th>\n",
       "      <td>6</td>\n",
       "      <td>0</td>\n",
       "      <td>0.0</td>\n",
       "      <td>2.00</td>\n",
       "    </tr>\n",
       "  </tbody>\n",
       "</table>\n",
       "</div>"
      ],
      "text/plain": [
       "         size  outliers  outliers_%  mean_seq_len\n",
       "cluster                                          \n",
       "0          15         0         0.0          5.20\n",
       "1          12         0         0.0          6.25\n",
       "2          15         0         0.0          3.67\n",
       "3          17         0         0.0          4.00\n",
       "4          17         0         0.0          5.00\n",
       "5           6         0         0.0          2.00"
      ]
     },
     "execution_count": 142,
     "metadata": {},
     "output_type": "execute_result"
    }
   ],
   "source": [
    "cluster_report(cluster_source, file_alignment)\n",
    "\n",
    "\n",
    "\n"
   ]
  }
 ],
 "metadata": {
  "kernelspec": {
   "display_name": "Python 3",
   "language": "python",
   "name": "python3"
  },
  "language_info": {
   "codemirror_mode": {
    "name": "ipython",
    "version": 3
   },
   "file_extension": ".py",
   "mimetype": "text/x-python",
   "name": "python",
   "nbconvert_exporter": "python",
   "pygments_lexer": "ipython3",
   "version": "3.7.4"
  }
 },
 "nbformat": 4,
 "nbformat_minor": 2
}