{
 "cells": [
  {
   "cell_type": "code",
   "execution_count": null,
   "metadata": {},
   "outputs": [],
   "source": [
    "import os\n",
    "import clustering\n",
    "import alignment\n",
    "import fake_alignment\n",
    "import cluster_visualization\n",
    "import template_generating\n",
    "\n",
    "%matplotlib inline"
   ]
  },
  {
   "cell_type": "code",
   "execution_count": null,
   "metadata": {},
   "outputs": [],
   "source": [
    "from _cluster_file_functions import extract_clusters, record_clusters\n",
    "from self_stopped_genetic_algorithm import selfstop_genetic_algorithm"
   ]
  },
  {
   "cell_type": "code",
   "execution_count": null,
   "metadata": {},
   "outputs": [],
   "source": [
    "SEQUENCE_SOURCE_DIR = 'data1/'  # Folder with sequences\n",
    "SEQUENCE_SOURCE_NAME = 'patient_traces_test'  # Name of sequences file without extention\n",
    "OUT_DIR_CLUSTERS = 'data1/Clusters/'  # Folder for clusters\n",
    "OUT_DIR_VISUALIZATION = 'data1/Paths'  # Folder with graphs\n",
    "OUTCOMES_FILE = None\n",
    "NODE_PARAMETERS_DIR = '_nodes_parameters/clinical_pathways_params'  # File with settings (names_dict.txt is required!!!)\n",
    "EXPERT_TEMPLATE_FILE = 'data1/expert_templates.txt'  # Manual templates\n",
    "GENETIC_TEMPLATE_FILE = 'data1/genetic_templates.txt'  # Empty file at start\n",
    "ALPHABET = 'AFNIED'  # All possible states in any order\n",
    "SEQUENCE_SEPARATOR = '\\t'  # A separator in SEQUENCE_SOURCE_NAME\n",
    "encoding = 'cp1251'"
   ]
  },
  {
   "cell_type": "code",
   "execution_count": null,
   "metadata": {},
   "outputs": [],
   "source": [
    "# read sequences\n",
    "sequence_source_path = os.path.join(SEQUENCE_SOURCE_DIR, SEQUENCE_SOURCE_NAME + '.txt')\n",
    "vectors, cases = extract_clusters(sequence_source_path, eval_=False, header=True,\n",
    "                                      encoding=encoding, sep=SEQUENCE_SEPARATOR)\n",
    "vectors = vectors[0]\n",
    "cases = cases[0]\n",
    "print(len(vectors), 'sequences')"
   ]
  },
  {
   "cell_type": "code",
   "execution_count": null,
   "metadata": {},
   "outputs": [],
   "source": [
    "OUT_DIR_CLUSTERS += SEQUENCE_SOURCE_NAME + '/'"
   ]
  },
  {
   "cell_type": "markdown",
   "metadata": {},
   "source": [
    "#### Distance matrix"
   ]
  },
  {
   "cell_type": "code",
   "execution_count": null,
   "metadata": {},
   "outputs": [],
   "source": [
    "# filename of distance matrix \n",
    "distance_matrix_file = '{0}{1}_similarity_matrix.txt'.format(OUT_DIR_CLUSTERS,\n",
    "                                                                 SEQUENCE_SOURCE_NAME)\n",
    "\n",
    "lev_sim_matrix = clustering.get_similarity_matrix(distance_matrix_file, vectors)"
   ]
  },
  {
   "cell_type": "code",
   "execution_count": null,
   "metadata": {},
   "outputs": [],
   "source": [
    "# Minimum and maximum number of clusters for clustering (less than 3 is not allowed)\n",
    "MIN_NUM_CLUSTER = 3\n",
    "MAX_NUM_CLUSTER = 10"
   ]
  },
  {
   "cell_type": "code",
   "execution_count": null,
   "metadata": {},
   "outputs": [],
   "source": [
    "var_metric, sill_metric = clustering.cluster_in_range(MIN_NUM_CLUSTER, \n",
    "                                   MAX_NUM_CLUSTER, \n",
    "                                   lev_sim_matrix, \n",
    "                                   vectors, \n",
    "                                   cases, \n",
    "                                   OUT_DIR_CLUSTERS)\n",
    "\n",
    "clustering.visualize_cluster_metrics(MIN_NUM_CLUSTER, \n",
    "                                     OUT_DIR_CLUSTERS, \n",
    "                                     [var_metric, sill_metric], \n",
    "                                     ['variance', 'silhouette'])\n"
   ]
  },
  {
   "cell_type": "code",
   "execution_count": null,
   "metadata": {},
   "outputs": [],
   "source": [
    "# Choose a number of clusters using metrics above\n",
    "num_of_clusters = 6"
   ]
  },
  {
   "cell_type": "code",
   "execution_count": null,
   "metadata": {},
   "outputs": [],
   "source": [
    "cluster_source = '{}KMeans{}.txt'.format(OUT_DIR_CLUSTERS, num_of_clusters)\n",
    "clusters, cluster_cases = extract_clusters(cluster_source, eval_=False, sep='\\t')"
   ]
  },
  {
   "cell_type": "markdown",
   "metadata": {},
   "source": [
    "#### Genetic templates"
   ]
  },
  {
   "cell_type": "code",
   "execution_count": null,
   "metadata": {},
   "outputs": [],
   "source": [
    "template_dir = os.path.join(SEQUENCE_SOURCE_DIR, 'Template_generating', SEQUENCE_SOURCE_NAME,\n",
    "                                        os.path.basename(cluster_source.split('.')[0]))"
   ]
  },
  {
   "cell_type": "code",
   "execution_count": null,
   "metadata": {},
   "outputs": [],
   "source": [
    "selfstop_genetic_algorithm(clusters, \n",
    "                           template_dir,\n",
    "                           alphabet=ALPHABET, \n",
    "                           mutation_num=10,\n",
    "                           increment=10, \n",
    "                           animation_and_plot=False)"
   ]
  },
  {
   "cell_type": "code",
   "execution_count": null,
   "metadata": {},
   "outputs": [],
   "source": [
    "template_generating.choose_best_templates(template_dir, SEQUENCE_SOURCE_DIR, cluster_source,\n",
    "                                          os.path.basename(GENETIC_TEMPLATE_FILE))\n",
    "\n"
   ]
  },
  {
   "cell_type": "code",
   "execution_count": null,
   "metadata": {},
   "outputs": [],
   "source": [
    "template_file = GENETIC_TEMPLATE_FILE"
   ]
  },
  {
   "cell_type": "code",
   "execution_count": null,
   "metadata": {},
   "outputs": [],
   "source": [
    "file_out = cluster_source.split('.')[0] + '_full_alignment.txt'"
   ]
  },
  {
   "cell_type": "markdown",
   "metadata": {},
   "source": [
    "#### Draw clusters with graphviz"
   ]
  },
  {
   "cell_type": "code",
   "execution_count": null,
   "metadata": {},
   "outputs": [],
   "source": [
    "num_state = alignment.align_all(clusters, cluster_cases, file_out, template_file)\n",
    "this_clusters, this_cases = extract_clusters(file_out, sep='\\t', eval_=False)"
   ]
  },
  {
   "cell_type": "code",
   "execution_count": null,
   "metadata": {},
   "outputs": [],
   "source": [
    "def draw_all_clusters(add_name=''):\n",
    "    graphs_paths = []\n",
    "    for i, cluster in enumerate(this_clusters):\n",
    "        graph = cluster_visualization.Graph(cluster, \n",
    "                                            this_cases[i],\n",
    "                                            cluster_visualization.get_file_name(\n",
    "                                                file_out) + add_name, \n",
    "                                            i, \n",
    "                                            num_state, \n",
    "                                            NODE_PARAMETERS_DIR, \n",
    "                                            OUTCOMES_FILE,\n",
    "                                            add_figures=False)\n",
    "        graph.collect_edges()    \n",
    "\n",
    "        try:\n",
    "            path_to_graph = graph.to_gv(OUT_DIR_VISUALIZATION, 0.0, 0.5)\n",
    "            graphs_paths.append(path_to_graph)\n",
    "        except AssertionError:\n",
    "            print('Cluster #{} is empty'.format(i))\n",
    "    return graphs_paths"
   ]
  },
  {
   "cell_type": "code",
   "execution_count": null,
   "metadata": {},
   "outputs": [],
   "source": [
    "graphs_paths = draw_all_clusters()"
   ]
  },
  {
   "cell_type": "markdown",
   "metadata": {},
   "source": [
    "#### Clusters review"
   ]
  },
  {
   "cell_type": "code",
   "execution_count": null,
   "metadata": {},
   "outputs": [],
   "source": [
    "import ipywidgets as widgets\n",
    "from IPython.display import Image\n",
    "from ipywidgets import interact"
   ]
  },
  {
   "cell_type": "code",
   "execution_count": null,
   "metadata": {},
   "outputs": [],
   "source": [
    "path_with_graphs = os.path.split(graphs_paths[0])[0]"
   ]
  },
  {
   "cell_type": "code",
   "execution_count": null,
   "metadata": {},
   "outputs": [],
   "source": [
    "def show_chains_with_clusters(path_with_graphs):\n",
    "    \n",
    "    def display_chain(x, width):\n",
    "        return Image(os.path.join(path_with_graphs, x), width = width, height = 300)\n",
    "    \n",
    "    png_graphs = [f for f in os.listdir(path_with_graphs) if f[-3:] == 'png']\n",
    "    \n",
    "\n",
    "    x_widget =  widgets.Dropdown(\n",
    "        options=png_graphs,\n",
    "        value=png_graphs[0],\n",
    "        description='Кластер №',\n",
    "        disabled=False,\n",
    "    )\n",
    "\n",
    "\n",
    "\n",
    "    width_slider = widgets.IntSlider(min=100, \n",
    "                                     max=1000, \n",
    "                                     step=1, \n",
    "                                     value=700,\n",
    "                                    description='Размер:')\n",
    "\n",
    "    \n",
    "    interact(display_chain,\n",
    "             x=x_widget,\n",
    "             width=width_slider,\n",
    "            )"
   ]
  },
  {
   "cell_type": "code",
   "execution_count": null,
   "metadata": {},
   "outputs": [],
   "source": [
    "show_chains_with_clusters(path_with_graphs)"
   ]
  },
  {
   "cell_type": "markdown",
   "metadata": {},
   "source": [
    "#### Statistics "
   ]
  },
  {
   "cell_type": "code",
   "execution_count": null,
   "metadata": {},
   "outputs": [],
   "source": [
    "import pandas as pd\n",
    "from stat_calculator import cluster_report"
   ]
  },
  {
   "cell_type": "code",
   "execution_count": null,
   "metadata": {},
   "outputs": [],
   "source": [
    "cluster_report(cluster_source, file_out)"
   ]
  },
  {
   "cell_type": "markdown",
   "metadata": {},
   "source": [
    "#### Expert templates"
   ]
  },
  {
   "cell_type": "code",
   "execution_count": null,
   "metadata": {},
   "outputs": [],
   "source": [
    "template_file_spec = EXPERT_TEMPLATE_FILE\n",
    "file_out_spec = cluster_source.split('.')[0] + '_full_alignment_specialist.txt'\n",
    "num_state = alignment.align_all(clusters, cluster_cases, file_out_spec, template_file_spec)\n",
    "this_clusters, this_cases = extract_clusters(file_out_spec, sep='\\t', eval_=False)\n",
    "\n",
    "graphs_paths_spec = draw_all_clusters(add_name='_spec')\n"
   ]
  },
  {
   "cell_type": "code",
   "execution_count": null,
   "metadata": {},
   "outputs": [],
   "source": [
    "path_with_graphs_spec = os.path.split(graphs_paths_spec[0])[0]\n",
    "show_chains_with_clusters(path_with_graphs_spec)"
   ]
  },
  {
   "cell_type": "code",
   "execution_count": null,
   "metadata": {},
   "outputs": [],
   "source": [
    "cluster_report(cluster_source, file_out_spec)"
   ]
  },
  {
   "cell_type": "markdown",
   "metadata": {},
   "source": [
    "#### Fake alignment (Cyclic)"
   ]
  },
  {
   "cell_type": "code",
   "execution_count": null,
   "metadata": {},
   "outputs": [],
   "source": [
    "file_alignment = cluster_source.split('.')[0] + '_fake_alignment.txt'\n",
    "aligned_clusters = [[] for i in range(len(clusters))]\n",
    "for i, cluster in enumerate(clusters):\n",
    "    cyclic_alignment = fake_alignment.CyclicAlignment()\n",
    "    for sequence in cluster:\n",
    "        aligned_clusters[i].append(cyclic_alignment.align(sequence))\n",
    "\n",
    "record_clusters(file_alignment, aligned_clusters, cluster_cases, sep='\\t')\n",
    "\n",
    "fake_graphs_append = []\n",
    "for i, cluster in enumerate(aligned_clusters):\n",
    "    graph = cluster_visualization.Graph(cluster, cluster_cases[i],\n",
    "                                        cluster_visualization.get_file_name(file_alignment), i, 1,\n",
    "                                        NODE_PARAMETERS_DIR, OUTCOMES_FILE)\n",
    "    graph.collect_edges()\n",
    "    fake_graphs_append.append(graph.to_gv(OUT_DIR_VISUALIZATION, 0.0, 0.3))"
   ]
  },
  {
   "cell_type": "code",
   "execution_count": null,
   "metadata": {},
   "outputs": [],
   "source": [
    "path_with_fake_graphs = os.path.split(fake_graphs_append[0])[0]\n",
    "show_chains_with_clusters(path_with_fake_graphs)"
   ]
  },
  {
   "cell_type": "code",
   "execution_count": null,
   "metadata": {
    "pycharm": {
     "name": "#%%\n"
    }
   },
   "outputs": [],
   "source": [
    "cluster_report(cluster_source, file_alignment)"
   ]
  },
  {
   "cell_type": "markdown",
   "metadata": {},
   "source": [
    "#### Clusters to dataframe and vice versa "
   ]
  },
  {
   "cell_type": "code",
   "execution_count": null,
   "metadata": {
    "pycharm": {
     "name": "#%%\n"
    }
   },
   "outputs": [],
   "source": [
    "from _cluster_file_functions import clusters_to_pd, pd_to_clusters"
   ]
  },
  {
   "cell_type": "code",
   "execution_count": null,
   "metadata": {
    "pycharm": {
     "name": "#%%\n"
    }
   },
   "outputs": [],
   "source": [
    "cluster_df = clusters_to_pd(clusters, cluster_cases)\n",
    "cluster_df"
   ]
  },
  {
   "cell_type": "code",
   "execution_count": null,
   "metadata": {
    "pycharm": {
     "name": "#%%\n"
    }
   },
   "outputs": [],
   "source": [
    "cluster_df = clusters_to_pd(cluster_file=cluster_source)\n",
    "cluster_df"
   ]
  },
  {
   "cell_type": "code",
   "execution_count": null,
   "metadata": {
    "pycharm": {
     "name": "#%%\n"
    }
   },
   "outputs": [],
   "source": [
    "clusters_from_df, cases_from_df = pd_to_clusters(cluster_df)\n",
    "clusters_from_df, cases_from_df"
   ]
  }
 ],
 "metadata": {
  "kernelspec": {
   "display_name": "Python 3",
   "language": "python",
   "name": "python3"
  },
  "language_info": {
   "codemirror_mode": {
    "name": "ipython",
    "version": 3
   },
   "file_extension": ".py",
   "mimetype": "text/x-python",
   "name": "python",
   "nbconvert_exporter": "python",
   "pygments_lexer": "ipython3",
   "version": "3.7.4"
  }
 },
 "nbformat": 4,
 "nbformat_minor": 2
}